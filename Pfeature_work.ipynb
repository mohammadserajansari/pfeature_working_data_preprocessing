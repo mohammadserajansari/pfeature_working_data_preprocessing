{
  "cells": [
    {
      "cell_type": "code",
      "execution_count": 1,
      "metadata": {
        "colab": {
          "base_uri": "https://localhost:8080/",
          "height": 35
        },
        "id": "LUuRp_t6mvzq",
        "outputId": "dc8e461e-6c47-4724-a998-f4c67807dc72"
      },
      "outputs": [
        {
          "data": {
            "text/plain": [
              "'/home/seraj22200/openCV_work/elon_musk'"
            ]
          },
          "execution_count": 1,
          "metadata": {},
          "output_type": "execute_result"
        }
      ],
      "source": [
        "import os\n",
        "os.chdir(\"/home/seraj22200/openCV_work/elon_musk\")\n",
        "os.getcwd()"
      ]
    },
    {
      "cell_type": "code",
      "execution_count": 4,
      "metadata": {
        "id": "d9fBJkSrpxCe"
      },
      "outputs": [],
      "source": [
        "import pandas as pd\n",
        "df = pd.read_csv(\"train.csv\")"
      ]
    },
    {
      "cell_type": "code",
      "execution_count": 5,
      "metadata": {},
      "outputs": [
        {
          "data": {
            "text/html": [
              "<div>\n",
              "<style scoped>\n",
              "    .dataframe tbody tr th:only-of-type {\n",
              "        vertical-align: middle;\n",
              "    }\n",
              "\n",
              "    .dataframe tbody tr th {\n",
              "        vertical-align: top;\n",
              "    }\n",
              "\n",
              "    .dataframe thead th {\n",
              "        text-align: right;\n",
              "    }\n",
              "</style>\n",
              "<table border=\"1\" class=\"dataframe\">\n",
              "  <thead>\n",
              "    <tr style=\"text-align: right;\">\n",
              "      <th></th>\n",
              "      <th>Sequence</th>\n",
              "      <th>Label</th>\n",
              "    </tr>\n",
              "  </thead>\n",
              "  <tbody>\n",
              "    <tr>\n",
              "      <th>0</th>\n",
              "      <td>MTAELRNLPHIASMAFNEPLMLEPAYARVFFCALAGQLGISSLTDA...</td>\n",
              "      <td>1</td>\n",
              "    </tr>\n",
              "    <tr>\n",
              "      <th>1</th>\n",
              "      <td>MTDITANVVVSNPRPIFTESRSFKAVANGKIYIGQIDTDPVNPANQ...</td>\n",
              "      <td>1</td>\n",
              "    </tr>\n",
              "    <tr>\n",
              "      <th>2</th>\n",
              "      <td>MEMISNNLNWFVGVVEDRMDPLKLGRVRVRVVGLHPPQRAQGDVMG...</td>\n",
              "      <td>1</td>\n",
              "    </tr>\n",
              "    <tr>\n",
              "      <th>3</th>\n",
              "      <td>MIINLADVEQLSIKAESVDFQYDMYKKVCEKFTDFEQSVLWQCMEA...</td>\n",
              "      <td>1</td>\n",
              "    </tr>\n",
              "    <tr>\n",
              "      <th>4</th>\n",
              "      <td>MRAFSTLDRENETFVPSVRVYADGETEDNSFSLKYRSNWTPGRFNS...</td>\n",
              "      <td>1</td>\n",
              "    </tr>\n",
              "    <tr>\n",
              "      <th>...</th>\n",
              "      <td>...</td>\n",
              "      <td>...</td>\n",
              "    </tr>\n",
              "    <tr>\n",
              "      <th>1509</th>\n",
              "      <td>MLKLKLLTSLAVFTTLLFSCGASYALSSCSPGVIKYIRYETDNAKT...</td>\n",
              "      <td>0</td>\n",
              "    </tr>\n",
              "    <tr>\n",
              "      <th>1510</th>\n",
              "      <td>MSGTSLNSQRLDTSRITCTAIIKCLRPVYRRAGIAFTRGENTVEVT...</td>\n",
              "      <td>0</td>\n",
              "    </tr>\n",
              "    <tr>\n",
              "      <th>1511</th>\n",
              "      <td>MNEDQNRAVALLLAELWQGDTRDIPRPAAYDPPVLCAGCGRELRPD...</td>\n",
              "      <td>0</td>\n",
              "    </tr>\n",
              "    <tr>\n",
              "      <th>1512</th>\n",
              "      <td>MIDPNRSYEQESVERALTCANCGQKLHVLEVHVCEYCCAELMSDSN...</td>\n",
              "      <td>0</td>\n",
              "    </tr>\n",
              "    <tr>\n",
              "      <th>1513</th>\n",
              "      <td>MNPTIAKITCPLCGNDEATVHRQKDRKKKLYYRCTGATFADGCGTI...</td>\n",
              "      <td>0</td>\n",
              "    </tr>\n",
              "  </tbody>\n",
              "</table>\n",
              "<p>1514 rows × 2 columns</p>\n",
              "</div>"
            ],
            "text/plain": [
              "                                               Sequence  Label\n",
              "0     MTAELRNLPHIASMAFNEPLMLEPAYARVFFCALAGQLGISSLTDA...      1\n",
              "1     MTDITANVVVSNPRPIFTESRSFKAVANGKIYIGQIDTDPVNPANQ...      1\n",
              "2     MEMISNNLNWFVGVVEDRMDPLKLGRVRVRVVGLHPPQRAQGDVMG...      1\n",
              "3     MIINLADVEQLSIKAESVDFQYDMYKKVCEKFTDFEQSVLWQCMEA...      1\n",
              "4     MRAFSTLDRENETFVPSVRVYADGETEDNSFSLKYRSNWTPGRFNS...      1\n",
              "...                                                 ...    ...\n",
              "1509  MLKLKLLTSLAVFTTLLFSCGASYALSSCSPGVIKYIRYETDNAKT...      0\n",
              "1510  MSGTSLNSQRLDTSRITCTAIIKCLRPVYRRAGIAFTRGENTVEVT...      0\n",
              "1511  MNEDQNRAVALLLAELWQGDTRDIPRPAAYDPPVLCAGCGRELRPD...      0\n",
              "1512  MIDPNRSYEQESVERALTCANCGQKLHVLEVHVCEYCCAELMSDSN...      0\n",
              "1513  MNPTIAKITCPLCGNDEATVHRQKDRKKKLYYRCTGATFADGCGTI...      0\n",
              "\n",
              "[1514 rows x 2 columns]"
            ]
          },
          "execution_count": 5,
          "metadata": {},
          "output_type": "execute_result"
        }
      ],
      "source": [
        "df"
      ]
    },
    {
      "cell_type": "code",
      "execution_count": 7,
      "metadata": {},
      "outputs": [
        {
          "data": {
            "text/plain": [
              "0    1127\n",
              "1     387\n",
              "Name: Label, dtype: int64"
            ]
          },
          "execution_count": 7,
          "metadata": {},
          "output_type": "execute_result"
        }
      ],
      "source": [
        "df['Label'].value_counts()"
      ]
    },
    {
      "cell_type": "code",
      "execution_count": 4,
      "metadata": {},
      "outputs": [],
      "source": [
        "df[\"Sequence\"].to_csv(\"test_data_seq.csv\",header=False,index=False)"
      ]
    },
    {
      "cell_type": "code",
      "execution_count": null,
      "metadata": {},
      "outputs": [],
      "source": [
        "# df = pd.read_csv('test.csv')\n",
        "# df[' Sequence'].to_csv('test_seq_only.csv', header = False, index = False)"
      ]
    },
    {
      "cell_type": "code",
      "execution_count": 5,
      "metadata": {
        "id": "GUbxm7p2nFMd"
      },
      "outputs": [
        {
          "name": "stdout",
          "output_type": "stream",
          "text": [
            "--2023-06-26 00:54:50--  https://github.com/raghavagps/Pfeature/archive/refs/heads/master.zip\n",
            "Resolving github.com (github.com)... 20.207.73.82\n",
            "Connecting to github.com (github.com)|20.207.73.82|:443... connected.\n",
            "HTTP request sent, awaiting response... 302 Found\n",
            "Location: https://codeload.github.com/raghavagps/Pfeature/zip/refs/heads/master [following]\n",
            "--2023-06-26 00:54:51--  https://codeload.github.com/raghavagps/Pfeature/zip/refs/heads/master\n",
            "Resolving codeload.github.com (codeload.github.com)... 20.207.73.88\n",
            "Connecting to codeload.github.com (codeload.github.com)|20.207.73.88|:443... connected.\n",
            "HTTP request sent, awaiting response... 200 OK\n",
            "Length: unspecified [application/zip]\n",
            "Saving to: ‘master.zip’\n",
            "\n",
            "master.zip              [  <=>               ]   3.10M  8.42MB/s    in 0.4s    \n",
            "\n",
            "2023-06-26 00:54:52 (8.42 MB/s) - ‘master.zip’ saved [3251187]\n",
            "\n"
          ]
        }
      ],
      "source": [
        "!wget https://github.com/raghavagps/Pfeature/archive/refs/heads/master.zip"
      ]
    },
    {
      "cell_type": "code",
      "execution_count": 6,
      "metadata": {
        "colab": {
          "base_uri": "https://localhost:8080/"
        },
        "id": "15lmT_3_oq9x",
        "outputId": "d5779512-cd7d-46b2-f8a4-cbf1036d5e30"
      },
      "outputs": [
        {
          "name": "stdout",
          "output_type": "stream",
          "text": [
            "Archive:  master.zip\n",
            "5a4906164b43f94c8b3b9996cd8660b5a57e8850\n",
            "   creating: Pfeature-master/\n",
            "  inflating: Pfeature-master/Descriptor_headers.pdf  \n",
            "  inflating: Pfeature-master/Feature_Description.pdf  \n",
            "  inflating: Pfeature-master/LICENSE  \n",
            "  inflating: Pfeature-master/Pfeature_Manual.pdf  \n",
            "   creating: Pfeature-master/PyLib/\n",
            "  inflating: Pfeature-master/PyLib/Functions_Tables.pdf  \n",
            "  inflating: Pfeature-master/PyLib/Pfeature.zip  \n",
            "  inflating: Pfeature-master/PyLib/README.md  \n",
            "  inflating: Pfeature-master/README.md  \n",
            "   creating: Pfeature-master/Standalone/\n",
            "   creating: Pfeature-master/Standalone/Data/\n",
            "  inflating: Pfeature-master/Standalone/Data/AAIndexNames.csv  \n",
            "  inflating: Pfeature-master/Standalone/Data/Grantham.csv  \n",
            "  inflating: Pfeature-master/Standalone/Data/PhysicoChemical.csv  \n",
            "  inflating: Pfeature-master/Standalone/Data/README.md  \n",
            "  inflating: Pfeature-master/Standalone/Data/Schneider-Wrede.csv  \n",
            "  inflating: Pfeature-master/Standalone/Data/aa_attr_group.csv  \n",
            "  inflating: Pfeature-master/Standalone/Data/aaind.txt  \n",
            "  inflating: Pfeature-master/Standalone/Data/aaindex.csv  \n",
            "  inflating: Pfeature-master/Standalone/Data/aaindices.csv  \n",
            "  inflating: Pfeature-master/Standalone/Data/atom.csv  \n",
            "  inflating: Pfeature-master/Standalone/Data/bin_di.csv  \n",
            "  inflating: Pfeature-master/Standalone/Data/bonds.csv  \n",
            "  inflating: Pfeature-master/Standalone/Data/can_pat.csv  \n",
            "  inflating: Pfeature-master/Standalone/Data/data  \n",
            "  inflating: Pfeature-master/Standalone/Data/z_aaindex.csv  \n",
            "  inflating: Pfeature-master/Standalone/LICENSE  \n",
            "  inflating: Pfeature-master/Standalone/Pfeature_Descriptors.pdf  \n",
            "  inflating: Pfeature-master/Standalone/README.md  \n",
            "  inflating: Pfeature-master/Standalone/README.txt  \n",
            "  inflating: Pfeature-master/Standalone/Requirement.txt  \n",
            "  inflating: Pfeature-master/Standalone/Screenshot.png  \n",
            "  inflating: Pfeature-master/Standalone/envfile  \n",
            "  inflating: Pfeature-master/Standalone/pfeature_bin.py  \n",
            "  inflating: Pfeature-master/Standalone/pfeature_comp.py  \n",
            "  inflating: Pfeature-master/Standalone/pfeature_pssm.py  \n",
            "  inflating: Pfeature-master/Standalone/pfeature_standalone.zip  \n",
            "  inflating: Pfeature-master/Standalone/protein.fa  \n",
            "  inflating: Pfeature-master/Standalone/protein.seq  \n",
            "   creating: Pfeature-master/scripts/\n",
            "  inflating: Pfeature-master/scripts/Pfeature_scripts.zip  \n",
            "  inflating: Pfeature-master/scripts/readme  \n"
          ]
        }
      ],
      "source": [
        "!unzip master.zip"
      ]
    },
    {
      "cell_type": "code",
      "execution_count": 4,
      "metadata": {
        "id": "-XTHurvSo69H"
      },
      "outputs": [],
      "source": [
        "os.chdir(\"/home/seraj22200/work_pfeature/Pfeature-master/Standalone\")"
      ]
    },
    {
      "cell_type": "code",
      "execution_count": 5,
      "metadata": {},
      "outputs": [
        {
          "name": "stdout",
          "output_type": "stream",
          "text": [
            "usage: pfeature_comp.py [-h] -i INPUT [-o OUTPUT]\n",
            "                        [-j {AAC,DPC,TPC,ATC,BTC,PCP,AAI,RRI,PRI,DDR,SEP,SER,SPC,ACR,CTC,CETD,PAAC,APAAC,QSO,SOC,ALLCOMP}]\n",
            "                        [-n N_TERMINAL] [-c C_TERMINAL] [-nct NC_TERMINAL]\n",
            "                        [-rn REST_N] [-rc REST_C] [-rnc REST_NC] [-s SPLIT]\n",
            "                        [-d LAG] [-w WEIGHT] [-t PWEIGHT]\n",
            "\n",
            "Please provide following arguments\n",
            "\n",
            "options:\n",
            "  -h, --help            show this help message and exit\n",
            "  -i INPUT, -I INPUT, --input INPUT\n",
            "                        Input: protein or peptide sequence in FASTA format or single sequence per line in single letter code\n",
            "  -o OUTPUT, -O OUTPUT, --output OUTPUT\n",
            "                        Output: File for saving results by default pfeature_result.csv\n",
            "  -j {AAC,DPC,TPC,ATC,BTC,PCP,AAI,RRI,PRI,DDR,SEP,SER,SPC,ACR,CTC,CETD,PAAC,APAAC,QSO,SOC,ALLCOMP}, -J {AAC,DPC,TPC,ATC,BTC,PCP,AAI,RRI,PRI,DDR,SEP,SER,SPC,ACR,CTC,CETD,PAAC,APAAC,QSO,SOC,ALLCOMP}, --job {AAC,DPC,TPC,ATC,BTC,PCP,AAI,RRI,PRI,DDR,SEP,SER,SPC,ACR,CTC,CETD,PAAC,APAAC,QSO,SOC,ALLCOMP}\n",
            "                        Job Type:\n",
            "                        AAC: Amino acid composition\n",
            "                        DPC: Dipeptide composition\n",
            "                        TPC: Tripeptide composition\n",
            "                        ATC: Atomic composition\n",
            "                        BTC: Bond composition\n",
            "                        PCP: Physico-chemical properties composition\n",
            "                        AAI: Amino-acid indices composition\n",
            "                        RRI: Residue repeat information\n",
            "                        PRI: Physico-chemical properties repeat information\n",
            "                        DDR: Distance distribution of residues\n",
            "                        SEP: Shannon entropy of protein\n",
            "                        SER: Shannon entropy of residues\n",
            "                        SPC: Shannon entropy of physico-chemical properties\n",
            "                        ACR: Autocorrelation descriptors\n",
            "                        CTC: Conjoint triad descriptors\n",
            "                        CeTD: Composition enhanced transition distribution\n",
            "                        PAAC: Pseudo amino acid composition\n",
            "                        APAAC: Amphiphilic pseudo amino acid composition\n",
            "                        QSO: Quasi sequence order\n",
            "                        SOC: Sequence order coupling number\n",
            "                        ALLCOMP:All composition features together except ACR and AAI\n",
            "                        by default AAC\n",
            "  -n N_TERMINAL, -N N_TERMINAL, --n_terminal N_TERMINAL\n",
            "                        Window Length from N-terminal: by default 0\n",
            "  -c C_TERMINAL, -C C_TERMINAL, --c_terminal C_TERMINAL\n",
            "                        Window Length from C-terminal: by default 0\n",
            "  -nct NC_TERMINAL, -Nct NC_TERMINAL, -NCt NC_TERMINAL, -NCT NC_TERMINAL, -nCt NC_TERMINAL, -ncT NC_TERMINAL, -nCT NC_TERMINAL, -NcT NC_TERMINAL, --nc_terminal NC_TERMINAL\n",
            "                        Residues from N- and C-terminal: by default 0\n",
            "  -rn REST_N, -Rn REST_N, -RN REST_N, -rN REST_N, --rest_n REST_N\n",
            "                        Number of residues removed from N-terminal, by default 0\n",
            "  -rc REST_C, -Rc REST_C, -RC REST_C, -rC REST_C, --rest_c REST_C\n",
            "                        Number of residues removed from C-terminal, by default 0\n",
            "  -rnc REST_NC, -RNC REST_NC, -Rnc REST_NC, -rNc REST_NC, -rnC REST_NC, -RNc REST_NC, -rNC REST_NC, -RnC REST_NC, --rest_nc REST_NC\n",
            "                        Number of residues removed from N- and C-terminal, by default 0\n",
            "  -s SPLIT, -S SPLIT, --split SPLIT\n",
            "                        Number of splits a sequence divided into, by default 0\n",
            "  -d LAG, -D LAG, --lag LAG\n",
            "                        This represents the order of gap, lag or dipeptide, by default 1\n",
            "  -w WEIGHT, -W WEIGHT, --weight WEIGHT\n",
            "                        Weighting Factor for QSO: Value between 0 to 1, by default 0.1\n",
            "  -t PWEIGHT, -T PWEIGHT, --pweight PWEIGHT\n",
            "                        Weighting factor for pseudo and amphiphlic pseudo amino acid composition: Value between 0 to 1, by default 0.05\n"
          ]
        }
      ],
      "source": [
        "!python pfeature_comp.py -h"
      ]
    },
    {
      "cell_type": "code",
      "execution_count": 4,
      "metadata": {},
      "outputs": [
        {
          "name": "stdout",
          "output_type": "stream",
          "text": [
            "usage: pfeature_bin.py [-h] -i INPUT [-o OUTPUT]\n",
            "                       [-j {AAB,DPB,ATB,BTB,PCB,AIB,ALLBIN}] [-n N_TERMINAL]\n",
            "                       [-c C_TERMINAL] [-nct NC_TERMINAL] [-rn REST_N]\n",
            "                       [-rc REST_C] [-rnc REST_NC] [-s SPLIT] [-d LAG]\n",
            "\n",
            "Please provide following arguments\n",
            "\n",
            "options:\n",
            "  -h, --help            show this help message and exit\n",
            "  -i INPUT, -I INPUT, --input INPUT\n",
            "                        Input: protein or peptide sequence in FASTA format or single sequence per line in single letter code\n",
            "  -o OUTPUT, -O OUTPUT, --output OUTPUT\n",
            "                        Output: File for saving results by default pfeature_result.csv\n",
            "  -j {AAB,DPB,ATB,BTB,PCB,AIB,ALLBIN}, -J {AAB,DPB,ATB,BTB,PCB,AIB,ALLBIN}, --job {AAB,DPB,ATB,BTB,PCB,AIB,ALLBIN}\n",
            "                        Job Type:\n",
            "                        AAB: Amino acid based binary profile\n",
            "                        DPB: Dipeptide based binary profile\n",
            "                        ATB: Atom based binary profile\n",
            "                        BTB: Bond based binary profile\n",
            "                        PCB: Physico-chemical properties based binary profile\n",
            "                        AIB: Amino-acid indices based binary profile\n",
            "                        ALLBIN:All binary profiles together except ATB and BTB\n",
            "                        by default AAB\n",
            "  -n N_TERMINAL, -N N_TERMINAL, --n_terminal N_TERMINAL\n",
            "                        Window Length from N-terminal: by default 0\n",
            "  -c C_TERMINAL, -C C_TERMINAL, --c_terminal C_TERMINAL\n",
            "                        Window Length from C-terminal: by default 0\n",
            "  -nct NC_TERMINAL, -Nct NC_TERMINAL, -NCt NC_TERMINAL, -NCT NC_TERMINAL, -nCt NC_TERMINAL, -ncT NC_TERMINAL, -nCT NC_TERMINAL, -NcT NC_TERMINAL, --nc_terminal NC_TERMINAL\n",
            "                        Residues from N- and C-terminal: by default 0\n",
            "  -rn REST_N, -Rn REST_N, -RN REST_N, -rN REST_N, --rest_n REST_N\n",
            "                        Number of residues removed from N-terminal, by default 0\n",
            "  -rc REST_C, -Rc REST_C, -RC REST_C, -rC REST_C, --rest_c REST_C\n",
            "                        Number of residues removed from C-terminal, by default 0\n",
            "  -rnc REST_NC, -RNC REST_NC, -Rnc REST_NC, -rNc REST_NC, -rnC REST_NC, -RNc REST_NC, -rNC REST_NC, -RnC REST_NC, --rest_nc REST_NC\n",
            "                        Number of residues removed from N- and C-terminal, by default 0\n",
            "  -s SPLIT, -S SPLIT, --split SPLIT\n",
            "                        Number of splits a sequence divided into, by default 0\n",
            "  -d LAG, -D LAG, --lag LAG\n",
            "                        This represents the order of gap, lag or dipeptide, by default 1\n"
          ]
        }
      ],
      "source": [
        "!python pfeature_bin.py -h"
      ]
    },
    {
      "cell_type": "code",
      "execution_count": 5,
      "metadata": {
        "colab": {
          "base_uri": "https://localhost:8080/"
        },
        "id": "SPNF5e2KlMnO",
        "outputId": "5fd66fa1-7821-4f91-8916-df7d4c566af5"
      },
      "outputs": [
        {
          "name": "stdout",
          "output_type": "stream",
          "text": [
            "Summary of Parameters:\n",
            "\n",
            "Input File: ../../train_data_seq.csv ; Job: AAB ; Output File: ../../train_aaB_2_surbhi.csv\n"
          ]
        }
      ],
      "source": [
        "!python pfeature_bin.py -i ../../train_data_seq.csv -j AAB -o ../../train_aaB_2_surbhi.csv"
      ]
    },
    {
      "cell_type": "code",
      "execution_count": 9,
      "metadata": {},
      "outputs": [
        {
          "name": "stdout",
          "output_type": "stream",
          "text": [
            "Summary of Parameters:\n",
            "\n",
            "Input File: ../../train_data_seq.csv ; Job: AAC ; Output File: ../../train_AAC_surbhi.csv\n"
          ]
        }
      ],
      "source": [
        "!python pfeature_comp.py -i ../../train_data_seq.csv -j AAC -o ../../train_AAC_surbhi.csv"
      ]
    },
    {
      "cell_type": "code",
      "execution_count": 10,
      "metadata": {},
      "outputs": [
        {
          "name": "stdout",
          "output_type": "stream",
          "text": [
            "Summary of Parameters:\n",
            "\n",
            "Input File: ../../train_data_seq.csv ; Job: DPC ; Output File: ../../train_DPC_surbhi.csv\n"
          ]
        }
      ],
      "source": [
        "!python pfeature_comp.py -i ../../train_data_seq.csv -j DPC -o ../../train_DPC_surbhi.csv"
      ]
    },
    {
      "cell_type": "code",
      "execution_count": null,
      "metadata": {},
      "outputs": [],
      "source": [
        "!python pfeature_comp.py -i ../../train_data_seq.csv -j TPC -o ../../train_TPC_surbhi.csv"
      ]
    },
    {
      "cell_type": "code",
      "execution_count": null,
      "metadata": {},
      "outputs": [],
      "source": [
        "!python pfeature_comp.py -i ../../train_data_seq.csv -j ALLCOMP -o ../../test_ALLCOMP_SURBHI.csv"
      ]
    },
    {
      "cell_type": "code",
      "execution_count": null,
      "metadata": {
        "colab": {
          "base_uri": "https://localhost:8080/"
        },
        "id": "APwecAmSow-p",
        "outputId": "fb3b80ec-6147-47b0-a89e-8339d15869bc"
      },
      "outputs": [],
      "source": [
        "# !python pfeature_comp.py -i ../../test_seq_only.csv -j AAC -o ../../test_AAB.csv"
      ]
    },
    {
      "cell_type": "code",
      "execution_count": null,
      "metadata": {
        "colab": {
          "base_uri": "https://localhost:8080/"
        },
        "id": "sLlJ0Q3zqKe1",
        "outputId": "15e66d5c-b228-48f9-f561-95e2dbf25abf"
      },
      "outputs": [],
      "source": [
        "# !python pfeature_bin.py -i ../../train_seq_only.csv -j AAB -o ../../train_AAB.csv\n",
        "# !python pfeature_bin.py -i ../../test_seq_only.csv -j AAB -o ../../test_AAB.csv"
      ]
    },
    {
      "cell_type": "code",
      "execution_count": null,
      "metadata": {
        "colab": {
          "background_save": true,
          "base_uri": "https://localhost:8080/"
        },
        "id": "TxmVBrOyqSMB",
        "outputId": "1b1b78bd-bbc4-4bf1-b8d4-a04f69f39500"
      },
      "outputs": [],
      "source": [
        "# !python pfeature_comp.py -i ../../test_seq_only.csv -j ALLCOMP -o ../../test_ALLCOMP.csv\n",
        "# !python pfeature_comp.py -i ../../train_seq_only.csv -j ALLCOMP -o ../../train_ALLCOMP.csv"
      ]
    }
  ],
  "metadata": {
    "accelerator": "GPU",
    "colab": {
      "provenance": []
    },
    "gpuClass": "standard",
    "kernelspec": {
      "display_name": "Python 3",
      "name": "python3"
    },
    "language_info": {
      "codemirror_mode": {
        "name": "ipython",
        "version": 3
      },
      "file_extension": ".py",
      "mimetype": "text/x-python",
      "name": "python",
      "nbconvert_exporter": "python",
      "pygments_lexer": "ipython3",
      "version": "3.10.11"
    }
  },
  "nbformat": 4,
  "nbformat_minor": 0
}
